{
 "cells": [
  {
   "cell_type": "code",
   "execution_count": 9,
   "metadata": {
    "slideshow": {
     "slide_type": "skip"
    }
   },
   "outputs": [
    {
     "data": {
      "application/javascript": [
       "MathJax.Hub.Config({\n",
       "    TeX: { equationNumbers: { autoNumber: \"AMS\" } }\n",
       "});\n"
      ],
      "text/plain": [
       "<IPython.core.display.Javascript object>"
      ]
     },
     "metadata": {},
     "output_type": "display_data"
    }
   ],
   "source": [
    "%%javascript\n",
    "MathJax.Hub.Config({\n",
    "    TeX: { equationNumbers: { autoNumber: \"AMS\" } }\n",
    "});"
   ]
  },
  {
   "cell_type": "code",
   "execution_count": 4,
   "metadata": {
    "slideshow": {
     "slide_type": "skip"
    }
   },
   "outputs": [
    {
     "data": {
      "text/html": [
       "<style type='text/css'>\n",
       ".CodeMirror{\n",
       "    font-size: 14px;\n",
       "}\n",
       "\n",
       "div.output_area pre {\n",
       "    font-size: 14px;\n",
       "}\n",
       "</style>\n"
      ],
      "text/plain": [
       "<IPython.core.display.HTML object>"
      ]
     },
     "metadata": {},
     "output_type": "display_data"
    }
   ],
   "source": [
    "%%html\n",
    "<style type='text/css'>\n",
    ".CodeMirror{\n",
    "    font-size: 14px;\n",
    "}\n",
    "\n",
    "div.output_area pre {\n",
    "    font-size: 14px;\n",
    "}\n",
    "</style>"
   ]
  },
  {
   "cell_type": "markdown",
   "metadata": {
    "cell_style": "center",
    "slideshow": {
     "slide_type": "slide"
    }
   },
   "source": [
    "# Tensor Networks with Qiskit\n",
    "### Isaac Nunez\n",
    "\n",
    "### William Huggins et al. (2018) *[Towards Quantum Machine Learning with Tensor Networks](https://arxiv.org/pdf/1803.11537.pdf)*"
   ]
  },
  {
   "cell_type": "markdown",
   "metadata": {
    "slideshow": {
     "slide_type": "slide"
    }
   },
   "source": [
    "## What exactly are Tensors?\n",
    "\n",
    "In essence, they are generalization of vectors and matrices which helps us represent and manipulate multi-dimensional data."
   ]
  },
  {
   "cell_type": "markdown",
   "metadata": {
    "slideshow": {
     "slide_type": "fragment"
    }
   },
   "source": [
    "<div style=\"display: inline; border: 0px\">\n",
    "    <img src=\"./images/tensor_vector.png\" style=\"height: 50%; width: 5%; float: left\"/>\n",
    "</div>\n",
    "<div style=\"display: inline; border: 0px\">\n",
    "    <img src=\"./images/tensor_matrix.png\" style=\"height: 40%; width: 15%; float: left\"/>\n",
    "</div>\n",
    "<div style=\"display: inline; border: 0px\">\n",
    "    <img src=\"./images/tensor_3d.png\" style=\"height: 40%; width: 15%; float: left\"/>\n",
    "</div>"
   ]
  },
  {
   "cell_type": "markdown",
   "metadata": {
    "slideshow": {
     "slide_type": "slide"
    }
   },
   "source": [
    "## How do they differ from what we already know?\n",
    "\n",
    "They introduce certain generalizations to vector and matrix operations."
   ]
  },
  {
   "cell_type": "markdown",
   "metadata": {
    "slideshow": {
     "slide_type": "fragment"
    }
   },
   "source": [
    "1. **Tensor products ($\\otimes$):** they are a generalization of the outer product of vectors.\n",
    "    ![tensor_product](images/tensor_product.png)\n",
    "    \n"
   ]
  },
  {
   "cell_type": "markdown",
   "metadata": {
    "slideshow": {
     "slide_type": "slide"
    }
   },
   "source": [
    "2. **Contraction**: it abstracts vector inner products (or matrix-matrix multiplication).\n",
    "    ![contraction](images/contraction.png)\n",
    "    \n",
    "    It can also be understood through the *Einstein Notation* where:\n",
    "    $$C^{k}_{l} = \\sum_{i,j} A^{k}_{i,j}\\cdot B^{i,j}_{l}$$"
   ]
  },
  {
   "cell_type": "markdown",
   "metadata": {
    "slideshow": {
     "slide_type": "slide"
    }
   },
   "source": [
    "## How do they relate to Quantum Computing?"
   ]
  },
  {
   "cell_type": "markdown",
   "metadata": {
    "slideshow": {
     "slide_type": "fragment"
    }
   },
   "source": [
    "Depending on the context, the shape of the tensor and position of the legs can provide a clue to the properties of the tensor or its indeces."
   ]
  },
  {
   "cell_type": "markdown",
   "metadata": {
    "slideshow": {
     "slide_type": "fragment"
    }
   },
   "source": [
    "One example is differencing between $|{\\phi}\\rangle$ and $\\langle\\phi|$ based on the position of the legs. \n",
    "\n",
    "This will allow to reject certain contractions."
   ]
  },
  {
   "cell_type": "markdown",
   "metadata": {
    "slideshow": {
     "slide_type": "slide"
    }
   },
   "source": [
    "## The bridge between Machine Learning and Quantum Computing"
   ]
  },
  {
   "cell_type": "markdown",
   "metadata": {
    "slideshow": {
     "slide_type": "fragment"
    }
   },
   "source": [
    "Machine Learning uses Tensor Networks to represent its multi-dimensional data and speedup computation"
   ]
  },
  {
   "cell_type": "markdown",
   "metadata": {
    "slideshow": {
     "slide_type": "fragment"
    }
   },
   "source": [
    "Quantum Circuits are a special case of Tensor Networks where the arrangement and types are restricted."
   ]
  },
  {
   "cell_type": "markdown",
   "metadata": {
    "slideshow": {
     "slide_type": "fragment"
    }
   },
   "source": [
    "Specifically, *Huggins et al.* use Tree Tensor Networks (TNN) and Matrix Product States (MPS) to implement their **discriminative** model"
   ]
  },
  {
   "cell_type": "markdown",
   "metadata": {
    "slideshow": {
     "slide_type": "slide"
    }
   },
   "source": [
    "## Towards Quantum Machine Learning with Tensor Networks"
   ]
  },
  {
   "cell_type": "markdown",
   "metadata": {
    "slideshow": {
     "slide_type": "fragment"
    }
   },
   "source": [
    "In their paper, *Huggins et al.* implement a Tensor Network for binary classification with the MNIST Dataset"
   ]
  },
  {
   "cell_type": "markdown",
   "metadata": {
    "slideshow": {
     "slide_type": "fragment"
    }
   },
   "source": [
    "They propose two approaches:\n",
    "    \n",
    "* Discriminative\n",
    "    \n",
    "* Generative"
   ]
  },
  {
   "cell_type": "markdown",
   "metadata": {
    "slideshow": {
     "slide_type": "slide"
    }
   },
   "source": [
    "The authors select a special case of Tree Tensor Networks: *MPS* for their discriminative model."
   ]
  },
  {
   "cell_type": "markdown",
   "metadata": {
    "cell_style": "center",
    "slideshow": {
     "slide_type": "fragment"
    }
   },
   "source": [
    "<div style=\"display: inline; border: 1px\">\n",
    "    <img src=\"./images/ttn_model.png\" style=\"height: 100%; float: left; width: 30%\"/>\n",
    "</div>\n",
    "<div style=\"display: inline; border: 1px\">\n",
    "    <img src=\"./images/mps_model.png\" style=\"height: 100%; float: right; width: 30%\"/>\n",
    "</div>"
   ]
  },
  {
   "cell_type": "markdown",
   "metadata": {
    "slideshow": {
     "slide_type": "slide"
    }
   },
   "source": [
    "### Learning on Quantum Circuits"
   ]
  },
  {
   "cell_type": "markdown",
   "metadata": {
    "slideshow": {
     "slide_type": "fragment"
    }
   },
   "source": [
    "First, we need a way to represent each pixel from the images as a quantum state."
   ]
  },
  {
   "cell_type": "markdown",
   "metadata": {
    "slideshow": {
     "slide_type": "fragment"
    }
   },
   "source": [
    "They propose the mapping\n",
    "\n",
    "$$x \\mapsto |\\Phi(x)\\rangle=\\left[{\\cos\\left(\\frac{\\pi}{2}x_1\\right) \\atop \\sin\\left(\\frac{\\pi}{2}x_1\\right)}\\right]\\otimes \\cdots \\otimes \\left[{\\cos\\left(\\frac{\\pi}{2}x_N\\right) \\atop \\sin\\left(\\frac{\\pi}{2}x_N\\right)}\\right] $$"
   ]
  },
  {
   "cell_type": "markdown",
   "metadata": {
    "slideshow": {
     "slide_type": "fragment"
    }
   },
   "source": [
    "They also abstract the concept of layers and implement them as <font color=\"blue\" style=\"font-weight: bold\">unitary</font> gates"
   ]
  },
  {
   "cell_type": "markdown",
   "metadata": {
    "slideshow": {
     "slide_type": "fragment"
    }
   },
   "source": [
    "These gates represent the parameters of the model on which the network will be trained for."
   ]
  },
  {
   "cell_type": "markdown",
   "metadata": {
    "slideshow": {
     "slide_type": "slide"
    }
   },
   "source": [
    "### How is the model evaluated?"
   ]
  },
  {
   "cell_type": "markdown",
   "metadata": {
    "slideshow": {
     "slide_type": "fragment"
    }
   },
   "source": [
    "The authors define a **loss function** based on the binary results from the Quantum Circuit"
   ]
  },
  {
   "cell_type": "markdown",
   "metadata": {
    "slideshow": {
     "slide_type": "fragment"
    }
   },
   "source": [
    "\\begin{align}\n",
    "p_{max false}(\\Lambda, x) &= \\max_{l \\neq l_x}[p_l(\\Lambda, x)]\\nonumber\\\\\n",
    "L(\\Lambda, x) &= \\max(p_{max false}(\\Lambda, x) - p_{l_x}(\\Lambda, x) + \\lambda, 0)^\\eta\\nonumber\\\\\n",
    "L(x) &= \\frac{1}{|{\\text{data}|}} \\sum_{x \\in \\text{data}} L(\\Lambda, x)\\label{eq:loss_equation}\n",
    "\\end{align}\n"
   ]
  },
  {
   "cell_type": "markdown",
   "metadata": {
    "slideshow": {
     "slide_type": "slide"
    }
   },
   "source": [
    "### How to minimize the loss function?"
   ]
  },
  {
   "cell_type": "markdown",
   "metadata": {
    "slideshow": {
     "slide_type": "fragment"
    }
   },
   "source": [
    "The authors chose the **S**imultaneous **P**erturbation **S**tochastic **A**proximation (SPSA) with a modification to include a momentum factor."
   ]
  },
  {
   "cell_type": "markdown",
   "metadata": {
    "slideshow": {
     "slide_type": "fragment"
    }
   },
   "source": [
    "Then, the optimization process follows as:\n",
    "\n",
    "1. Initialize $\\Lambda$ randomly and set $v$ to zero\n",
    "2. Choose the hyperparameters $a$, $b$, $A$, $s$, $t$, $\\gamma$, $n$, and $M$\n",
    "3. For each $k \\in \\{0,1,\\dots, M\\}$, divide the dataset into random batches of $n$ images and:\n",
    "    1. Choose $\\alpha_k = \\dfrac{a}{(k+1+A)^s}$ and $\\beta_k = \\dfrac{b}{(k+1)^t}$\n",
    "    2. Generate a perturbation $\\delta$.\n",
    "    3. Evaluate $g = \\dfrac{L(\\Lambda_k + \\alpha_k\\delta) - L(\\Lambda_k - \\alpha_k\\delta)}{2\\cdot\\alpha_k}$ with $L(x)$ as defined in $\\eqref{eq:loss_equation}$\n",
    "    4. $v_{new} = \\gamma\\cdot v_{old} - g\\cdot\\beta_k\\cdot\\delta$\n",
    "    5. $\\Lambda_{new} = \\Lambda_{old} + v_{new}$"
   ]
  },
  {
   "cell_type": "markdown",
   "metadata": {
    "slideshow": {
     "slide_type": "slide"
    }
   },
   "source": [
    "### The networks..."
   ]
  },
  {
   "cell_type": "markdown",
   "metadata": {
    "slideshow": {
     "slide_type": "slide"
    }
   },
   "source": [
    "#### The base model\n",
    "\n",
    "<img src=\"../circuits/circuit_normal_4x4.png\" style=\"height: 30%; float: left\"/>\n"
   ]
  },
  {
   "cell_type": "markdown",
   "metadata": {
    "slideshow": {
     "slide_type": "slide"
    }
   },
   "source": [
    "#### The efficient model\n",
    "\n",
    "<img src=\"../circuits/circuit_efficient_4x4.png\" style=\"height: 60%; float: left\"/>"
   ]
  },
  {
   "cell_type": "markdown",
   "metadata": {
    "slideshow": {
     "slide_type": "slide"
    }
   },
   "source": [
    "### The results..."
   ]
  },
  {
   "cell_type": "markdown",
   "metadata": {
    "slideshow": {
     "slide_type": "fragment"
    }
   },
   "source": [
    "The bottom line: <font color=\"red\" style=\"font-weight: bold\">They are not great</font>"
   ]
  },
  {
   "cell_type": "markdown",
   "metadata": {
    "slideshow": {
     "slide_type": "fragment"
    }
   },
   "source": [
    "They claimed above  <font color=\"green\" style=\"font-weight: bold\">95%</font> accuracy yet during training, accuracy was not above <font color=\"red\" style=\"font-weight: bold\">55%</font>"
   ]
  },
  {
   "cell_type": "markdown",
   "metadata": {
    "slideshow": {
     "slide_type": "fragment"
    }
   },
   "source": [
    "Despite the batch size defined by the authors, the models performed better using a <font color=\"red\" style=\"font-weight: bold\">smaller</font> batch size. "
   ]
  },
  {
   "cell_type": "markdown",
   "metadata": {
    "slideshow": {
     "slide_type": "slide"
    }
   },
   "source": [
    "### Shortcomings"
   ]
  },
  {
   "cell_type": "markdown",
   "metadata": {
    "slideshow": {
     "slide_type": "fragment"
    }
   },
   "source": [
    "* My testing was using the efficient architecture yet the authors only tested the base model.\n",
    "\n",
    "\n",
    "* The base model has 1008 parameters for an image of 8x8 while the efficient one has 15616.\n",
    "\n",
    "\n",
    "* The chosen hyperparameters are only for the base model.\n",
    "\n",
    "\n",
    "* The hyperparameters are outside the range of convergence required by the authors of SPSA."
   ]
  },
  {
   "cell_type": "markdown",
   "metadata": {
    "slideshow": {
     "slide_type": "slide"
    }
   },
   "source": [
    "* The authors did not test the efficient model nor they proposed hyperparameters for it.\n",
    "\n",
    "\n",
    "* After almost two weeks running the base model, the training accuracy was not higher than <font color=\"red\" style=\"font-weight: bold\">65%</font>\n",
    "\n",
    "\n",
    "* Smaller batch sizes show a small improvement in a short term.\n",
    "\n",
    "\n",
    "* The authors did not use Tensorflow, Tensornetwork, and/or Qiskit for their development but rather they own C++ Tensor Library. <font color=\"red\">The code for their paper is not available.</font>"
   ]
  },
  {
   "cell_type": "markdown",
   "metadata": {
    "slideshow": {
     "slide_type": "slide"
    }
   },
   "source": [
    "# Future improvements"
   ]
  },
  {
   "cell_type": "markdown",
   "metadata": {
    "slideshow": {
     "slide_type": "fragment"
    }
   },
   "source": [
    "* The main author recommends to move from SPSA to the Shift Parameter Rule (SPR) as means to calculate the gradients of a Quantum Circuit.\n",
    "    * The SPR for Unitary gates is called Stochastic SPR and requires **three** times more unitary gates.\n",
    "    \n",
    "\n",
    "* Many of the examples of SSPR rely on Pytorch for feature extraction and they introduce the Quantum Circuit as another layer on the network. Examples from Qiskit show better accuracy."
   ]
  }
 ],
 "metadata": {
  "celltoolbar": "Slideshow",
  "kernelspec": {
   "display_name": "Python 3 (ipykernel)",
   "language": "python",
   "name": "python3"
  },
  "language_info": {
   "codemirror_mode": {
    "name": "ipython",
    "version": 3
   },
   "file_extension": ".py",
   "mimetype": "text/x-python",
   "name": "python",
   "nbconvert_exporter": "python",
   "pygments_lexer": "ipython3",
   "version": "3.8.10"
  }
 },
 "nbformat": 4,
 "nbformat_minor": 2
}
