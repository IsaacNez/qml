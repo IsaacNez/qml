{
 "cells": [
  {
   "cell_type": "markdown",
   "metadata": {},
   "source": [
    "# Tensor Networks with Qiskit\n",
    "\n",
    "## Towards Quantum Machine Learning with Tensor Networks\n",
    "### William Huggins et al."
   ]
  }
 ],
 "metadata": {
  "language_info": {
   "name": "python"
  },
  "orig_nbformat": 4
 },
 "nbformat": 4,
 "nbformat_minor": 2
}
